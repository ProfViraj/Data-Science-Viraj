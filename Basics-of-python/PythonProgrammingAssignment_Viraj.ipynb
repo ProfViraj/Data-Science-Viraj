{
  "nbformat": 4,
  "nbformat_minor": 0,
  "metadata": {
    "colab": {
      "provenance": []
    },
    "kernelspec": {
      "name": "python3",
      "display_name": "Python 3"
    },
    "language_info": {
      "name": "python"
    }
  },
  "cells": [
    {
      "cell_type": "markdown",
      "source": [
        "#Exercise 1: Prime Numbers\n",
        "### Write a Python program that checks whether a given number is prime or not. A prime number is a natural number greater than 1 that has no positive divisors other than 1 and itself"
      ],
      "metadata": {
        "id": "atrRTOm3S2vk"
      }
    },
    {
      "cell_type": "code",
      "execution_count": 5,
      "metadata": {
        "colab": {
          "base_uri": "https://localhost:8080/"
        },
        "id": "bGK6K3XQSN0-",
        "outputId": "6055af30-3c4c-4acb-b18d-9050853aded1"
      },
      "outputs": [
        {
          "output_type": "stream",
          "name": "stdout",
          "text": [
            "Enter the number: 17\n",
            "It is a Prime Number\n"
          ]
        }
      ],
      "source": [
        "# Taking the input in integer\n",
        "num = int(input(\"Enter the number: \"))\n",
        "flag=1\n",
        "# As any number is divisible by 1 and itself so taking the range between them\n",
        "for i in range(2,num):\n",
        "    #If any number between 2 and num-1 divides the num, then it is prime\n",
        "    if num%i == 0:\n",
        "        print('It is Not a Prime Number')\n",
        "        flag=0\n",
        "        break\n",
        "#Else it is not a prime\n",
        "if flag==1:\n",
        "    print(\"It is a Prime Number\")"
      ]
    },
    {
      "cell_type": "markdown",
      "source": [
        "# Exercise 2: Product of Random Numbers\n",
        "### Develop a Python program that generates two random numbers and asks the user to enter the product of these numbers. The program should then check if the user's answer is correct and display an appropriate message\n"
      ],
      "metadata": {
        "id": "rUrkAewyUlJ7"
      }
    },
    {
      "cell_type": "code",
      "source": [
        "# Generating two random integers using numpy\n",
        "import numpy as np\n",
        "numbers = np.random.randint(0, 50, 2)\n",
        "print(\"Multiply these two integers: \",numbers[0],'\\t',numbers[1])\n",
        "a=int(input(\"Enter your answer: \"))\n",
        "# Checking if the answer is matching with the users answer\n",
        "if numbers[0]*numbers[1] == a:\n",
        "    print('Congratulations!\\nYour Answer is Correct')\n",
        "else:\n",
        "    print('Sorry!\\nWrong Answer')"
      ],
      "metadata": {
        "colab": {
          "base_uri": "https://localhost:8080/"
        },
        "id": "oEnQL5sWSqas",
        "outputId": "144f1db9-79c8-43ea-cfa9-9bb695ae646a"
      },
      "execution_count": 8,
      "outputs": [
        {
          "output_type": "stream",
          "name": "stdout",
          "text": [
            "Multiply these two integers:  21 \t 7\n",
            "Enter your answer: 98\n",
            "Sorry!\n",
            "Wrong Answer\n"
          ]
        }
      ]
    },
    {
      "cell_type": "markdown",
      "source": [
        "# Exercise 3: Squares of Even/Odd Numbers\n",
        "### Create a Python script that prints the squares of all even or odd numbers within the range of 100 to 200. Choose either even or odd numbers and document your choice in the code.\n"
      ],
      "metadata": {
        "id": "D8k4OtUjWbSg"
      }
    },
    {
      "cell_type": "code",
      "source": [
        "# Giving choices to select\n",
        "print('Between 100 to 200\\nSquares of Odd Numbers: 0\\nSquares of Even Numbers: 1')\n",
        "a = int(input(\"Enter your choice(0/1): \"))\n",
        "# For odd numbers\n",
        "if a==0:\n",
        "    odd_squares = []\n",
        "    for i in range(100,201):\n",
        "        if i%2==1:\n",
        "            odd_squares.append(i*i)\n",
        "    print('Squares of odd numbers between 100 to 200 are\\n', odd_squares)\n",
        "# For even numbers\n",
        "elif a==1:\n",
        "    even_squares = []\n",
        "    for i in range(100,201):\n",
        "        if i%2==0:\n",
        "            even_squares.append(i*i)\n",
        "    print(\"Squares of even numbers between 100 to 200 are\\n\", even_squares)\n",
        "# for invalid input\n",
        "else:\n",
        "    print('Invalid Choice')"
      ],
      "metadata": {
        "colab": {
          "base_uri": "https://localhost:8080/"
        },
        "id": "jIxi6nTmVR_c",
        "outputId": "17cbc76a-3804-4a4c-fa3f-5516581e1f24"
      },
      "execution_count": 13,
      "outputs": [
        {
          "output_type": "stream",
          "name": "stdout",
          "text": [
            "Between 100 to 200\n",
            "Squares of Odd Numbers: 0\n",
            "Squares of Even Numbers: 1\n",
            "Enter your choice(0/1): 9\n",
            "Invalid Choice\n"
          ]
        }
      ]
    },
    {
      "cell_type": "markdown",
      "source": [
        "#Exercise 4: Word counter\n",
        "###write a program to count the number of words in a given text.\n",
        "###example:\n",
        "input_text = \"This is a sample text. This text will be used to demonstrate the word counter.\"\n",
        "\n",
        "Expected output:\n",
        "'This': 2\n",
        "'is': 1\n",
        "'a': 1\n",
        "'sample': 1\n",
        "'text.': 1\n"
      ],
      "metadata": {
        "id": "kF6NW7_iY8eb"
      }
    },
    {
      "cell_type": "code",
      "source": [
        "# Define a function named word_count that takes one argument, 'str'.\n",
        "def word_count(str):\n",
        "    counts = dict()\n",
        "    words = str.split()\n",
        "    for word in words:\n",
        "        # Check if the word is already in the 'counts' dictionary.\n",
        "        if word in counts:\n",
        "            counts[word] += 1\n",
        "        else:\n",
        "            counts[word] = 1\n",
        "\n",
        "    # Return the 'counts' dictionary, which contains word frequencies.\n",
        "    return counts\n",
        "\n",
        "# Call the word_count function with an input sentence and print the results.\n",
        "sentence = input(\"Enter the sentence here: \")\n",
        "print(word_count(sentence))"
      ],
      "metadata": {
        "colab": {
          "base_uri": "https://localhost:8080/"
        },
        "id": "gqAQCjrDXfFX",
        "outputId": "547dc0b7-db24-4ed9-f72d-fd4adf1759eb"
      },
      "execution_count": 22,
      "outputs": [
        {
          "output_type": "stream",
          "name": "stdout",
          "text": [
            "Enter the sentence here: This is a sample text. This text will be used to demonstrate the word counter.\n",
            "{'This': 2, 'is': 1, 'a': 1, 'sample': 1, 'text.': 1, 'text': 1, 'will': 1, 'be': 1, 'used': 1, 'to': 1, 'demonstrate': 1, 'the': 1, 'word': 1, 'counter.': 1}\n"
          ]
        }
      ]
    },
    {
      "cell_type": "markdown",
      "source": [
        "# Exercise 5: Check for Palindrome\n",
        "Write a Python function called is_palindrome that takes a string as input and returns True if the string is a palindrome, and False otherwise. A palindrome is a word, phrase, number, or other sequence of characters that reads the same forward and backward, ignoring spaces, punctuation, and capitalization.\n"
      ],
      "metadata": {
        "id": "LGvfrI15cGmh"
      }
    },
    {
      "cell_type": "code",
      "source": [
        "def isPalindrome(str):\n",
        "    # Run loop from 0 to len/2\n",
        "    for i in range(0, int(len(str)/2)):\n",
        "        # Checking the letters from both of the sides\n",
        "        if str[i] != str[len(str)-i-1]:\n",
        "            return False\n",
        "    return True\n",
        "word = str(input('Enter the word here: '))\n",
        "isPalindrome(word)"
      ],
      "metadata": {
        "colab": {
          "base_uri": "https://localhost:8080/"
        },
        "id": "8KQ-dbhlbAGY",
        "outputId": "286c531c-f91d-46b5-f101-20b772b07a16"
      },
      "execution_count": 21,
      "outputs": [
        {
          "name": "stdout",
          "output_type": "stream",
          "text": [
            "Enter the word here: racecar\n"
          ]
        },
        {
          "output_type": "execute_result",
          "data": {
            "text/plain": [
              "True"
            ]
          },
          "metadata": {},
          "execution_count": 21
        }
      ]
    }
  ]
}