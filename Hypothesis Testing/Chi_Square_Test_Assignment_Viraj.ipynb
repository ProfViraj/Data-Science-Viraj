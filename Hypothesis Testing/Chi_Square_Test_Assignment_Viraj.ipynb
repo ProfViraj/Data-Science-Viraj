{
  "nbformat": 4,
  "nbformat_minor": 0,
  "metadata": {
    "colab": {
      "provenance": []
    },
    "kernelspec": {
      "name": "python3",
      "display_name": "Python 3"
    },
    "language_info": {
      "name": "python"
    }
  },
  "cells": [
    {
      "cell_type": "markdown",
      "source": [
        "# Question"
      ],
      "metadata": {
        "id": "DifuYT2Z3ZeL"
      }
    },
    {
      "cell_type": "markdown",
      "source": [
        "### Background\n",
        "Mizzare Corporation has collected data on customer satisfaction levels for two types of smart home devices: Smart Thermostats and Smart Lights. They want to determine if there's a significant association between the type of device purchased and the customer's satisfaction level."
      ],
      "metadata": {
        "id": "YbOB31ia3eDc"
      }
    },
    {
      "cell_type": "markdown",
      "source": [
        "### Data Provided\n",
        "The data is summarized in a contingency table showing the counts of customers in each satisfaction level for both types of devices:\n",
        "\n",
        "| Satisfaction | Smart Thermostat\t| Smart Light | Total |\n",
        "|---|---|---|---|\n",
        "| Very Satisfied | 50 | 70 | 120 |\n",
        "|Satisfied\t|80\t|100\t|180|\n",
        "|Neutral|\t60\t|90\t|150|\n",
        "|Unsatisfied\t|30\t|50\t|80|\n",
        "|Very Unsatisfied\t|20|\t50|\t70|\n",
        "|Total\t|240\t|360\t|600|"
      ],
      "metadata": {
        "id": "KOcrFxjd3jhT"
      }
    },
    {
      "cell_type": "markdown",
      "source": [
        "### Objective\n",
        "To use the Chi-Square test for independence to determine if there's a significant association between the type of smart home device purchased (Smart Thermostats vs. Smart Lights) and the customer satisfaction level."
      ],
      "metadata": {
        "id": "Vy_hyjds7KjX"
      }
    },
    {
      "cell_type": "code",
      "source": [
        "# Importing Libraries\n",
        "import numpy as np\n",
        "from scipy.stats import chi2_contingency\n",
        "from scipy.stats import chi2"
      ],
      "metadata": {
        "id": "7xynF2lP7aYi"
      },
      "execution_count": 31,
      "outputs": []
    },
    {
      "cell_type": "markdown",
      "source": [
        "# Stating the Hypothesis"
      ],
      "metadata": {
        "id": "hqAC-VgI7eeI"
      }
    },
    {
      "cell_type": "code",
      "source": [
        "# State the Hypotheses\n",
        "# Null Hypothesis (H0): There is no significant association between device type and customer satisfaction level.\n",
        "# Alternative Hypothesis (H1): There is a significant association between device type and customer satisfaction level."
      ],
      "metadata": {
        "id": "_4QpiBNO7dug"
      },
      "execution_count": 32,
      "outputs": []
    },
    {
      "cell_type": "markdown",
      "source": [
        "# Compute the Chi-Squared Statistic"
      ],
      "metadata": {
        "id": "Do-MTbWa7sw-"
      }
    },
    {
      "cell_type": "code",
      "source": [
        "# Data provided\n",
        "observed_counts = np.array([[50, 70],\n",
        "                            [80, 100],\n",
        "                            [60, 90],\n",
        "                            [30, 50],\n",
        "                            [20, 50]])\n",
        "\n",
        "# Compute the Chi-Square Statistic\n",
        "chi, p, dof, expected = chi2_contingency(observed_counts)\n",
        "chi2_contingency(observed_counts)"
      ],
      "metadata": {
        "colab": {
          "base_uri": "https://localhost:8080/"
        },
        "id": "t6DpGsNc7z7k",
        "outputId": "3bb9e5d4-40da-4527-afe5-3c89593fd931"
      },
      "execution_count": 34,
      "outputs": [
        {
          "output_type": "execute_result",
          "data": {
            "text/plain": [
              "Chi2ContingencyResult(statistic=5.638227513227513, pvalue=0.22784371130697179, dof=4, expected_freq=array([[ 48.,  72.],\n",
              "       [ 72., 108.],\n",
              "       [ 60.,  90.],\n",
              "       [ 32.,  48.],\n",
              "       [ 28.,  42.]]))"
            ]
          },
          "metadata": {},
          "execution_count": 34
        }
      ]
    },
    {
      "cell_type": "markdown",
      "source": [
        "# Determine the Critical Value:\n",
        "Using the significance level (alpha) of 0.05 and the degrees of freedom"
      ],
      "metadata": {
        "id": "E_XBjayN75Rw"
      }
    },
    {
      "cell_type": "code",
      "source": [
        "# Degrees of freedom\n",
        "degrees_of_freedom = (observed_counts.shape[0] - 1) * (observed_counts.shape[1] - 1)\n",
        "\n",
        "# Determine the Critical Value\n",
        "alpha = 0.05\n",
        "critical_value = chi2.ppf(1 - alpha, degrees_of_freedom)\n",
        "(degrees_of_freedom, critical_value)"
      ],
      "metadata": {
        "colab": {
          "base_uri": "https://localhost:8080/"
        },
        "id": "nNDVdMW88ath",
        "outputId": "ade223f2-d7f2-47e8-c256-c2b995602a4d"
      },
      "execution_count": 35,
      "outputs": [
        {
          "output_type": "execute_result",
          "data": {
            "text/plain": [
              "(4, 9.487729036781154)"
            ]
          },
          "metadata": {},
          "execution_count": 35
        }
      ]
    },
    {
      "cell_type": "markdown",
      "source": [
        "# Make a Decision"
      ],
      "metadata": {
        "id": "T5pnmXB98vJr"
      }
    },
    {
      "cell_type": "code",
      "source": [
        "# Make a Decision\n",
        "if chi > critical_value:\n",
        "    decision = \"Reject the null hypothesis\"\n",
        "else:\n",
        "    decision = \"Fail to reject the null hypothesis\"\n",
        "print(decision)"
      ],
      "metadata": {
        "colab": {
          "base_uri": "https://localhost:8080/"
        },
        "id": "qwOQ0cew8yp_",
        "outputId": "f8fb33a0-c442-4ddc-ffe8-a95190577749"
      },
      "execution_count": 37,
      "outputs": [
        {
          "output_type": "stream",
          "name": "stdout",
          "text": [
            "Fail to reject the null hypothesis\n"
          ]
        }
      ]
    },
    {
      "cell_type": "markdown",
      "source": [
        "#Conclusion"
      ],
      "metadata": {
        "id": "5sQjVX--89Xf"
      }
    },
    {
      "cell_type": "code",
      "execution_count": 38,
      "metadata": {
        "id": "KfYOTu-JeG8h",
        "colab": {
          "base_uri": "https://localhost:8080/"
        },
        "outputId": "0ef200e4-6f92-443d-92b2-66105dcb19e8"
      },
      "outputs": [
        {
          "output_type": "stream",
          "name": "stdout",
          "text": [
            "Chi-Square Statistic: 5.638227513227513\n",
            "Degrees of Freedom: 4\n",
            "Critical Value: 9.487729036781154\n",
            "Decision: Fail to reject the null hypothesis\n",
            "Conclusion: There is not enough evidence to support the alternative hypothesis.\n"
          ]
        }
      ],
      "source": [
        "# Conclusion\n",
        "if p < alpha:\n",
        "    conclusion = \"There is significant evidence to support the alternative hypothesis.\"\n",
        "else:\n",
        "    conclusion = \"There is not enough evidence to support the alternative hypothesis.\"\n",
        "\n",
        "# Print the results\n",
        "print(\"Chi-Square Statistic:\", chi)\n",
        "print(\"Degrees of Freedom:\", degrees_of_freedom)\n",
        "print(\"Critical Value:\", critical_value)\n",
        "print(\"Decision:\", decision)\n",
        "print(\"Conclusion:\", conclusion)"
      ]
    }
  ]
}