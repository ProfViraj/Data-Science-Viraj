{
  "nbformat": 4,
  "nbformat_minor": 0,
  "metadata": {
    "colab": {
      "provenance": []
    },
    "kernelspec": {
      "name": "python3",
      "display_name": "Python 3"
    },
    "language_info": {
      "name": "python"
    }
  },
  "cells": [
    {
      "cell_type": "markdown",
      "source": [
        "# Example"
      ],
      "metadata": {
        "id": "Lfvu2KogwT16"
      }
    },
    {
      "cell_type": "markdown",
      "source": [
        "Bombay hospitality Ltd. operates a franchise model for producing exotic Norwegian dinners throughout New England. The operating cost for a franchise in a week (W) is given by the equation W = $1,000 + $5X, where X represents the number of units produced in a week. Recent feedback from restaurant owners suggests that this cost model may no longer be accurate, as their observed weekly operating costs are higher."
      ],
      "metadata": {
        "id": "G1Jsh9C-wP-N"
      }
    },
    {
      "cell_type": "markdown",
      "source": [
        "# Objective\n",
        "To investigate the restaurant owners' claim about the increase in weekly operating costs using hypothesis testing."
      ],
      "metadata": {
        "id": "udignfBK-OBr"
      }
    },
    {
      "cell_type": "markdown",
      "source": [
        "# Data Provided\n",
        "* The theoretical weekly operating cost model: W = $1,000 + $5X\n",
        "* Sample of 25 restaurants with a mean weekly cost of Rs. 3,050\n",
        "* Number of units produced in a week (X) follows a normal distribution with a mean (μ) of 600 units and a standard deviation (σ) of 25 units\n"
      ],
      "metadata": {
        "id": "VI6X6nSv-TKs"
      }
    },
    {
      "cell_type": "markdown",
      "source": [
        "# Solution"
      ],
      "metadata": {
        "id": "b42sXKOHxWKv"
      }
    },
    {
      "cell_type": "code",
      "source": [
        "# We have\n",
        "X_bar = 3050 # Sample mean weekly cost\n",
        "n = 25 # Sample size\n",
        "mu = 1000 + 5*600\n",
        "std = 5*25\n",
        "info={'Sample_mean':X_bar,\n",
        "      'Sample_size':n,\n",
        "      'pop_mean':mu,\n",
        "      'pop_std':std}\n",
        "info"
      ],
      "metadata": {
        "colab": {
          "base_uri": "https://localhost:8080/"
        },
        "id": "gZjtQZ6hwSxx",
        "outputId": "3f37f361-7c4d-4f9f-d896-26fdc6540d13"
      },
      "execution_count": 1,
      "outputs": [
        {
          "output_type": "execute_result",
          "data": {
            "text/plain": [
              "{'Sample_mean': 3050, 'Sample_size': 25, 'pop_mean': 4000, 'pop_std': 125}"
            ]
          },
          "metadata": {},
          "execution_count": 1
        }
      ]
    },
    {
      "cell_type": "markdown",
      "source": [
        "# Statement"
      ],
      "metadata": {
        "id": "sNG579XB6srX"
      }
    },
    {
      "cell_type": "code",
      "source": [
        "# Setting the null hypothesis\n",
        "# The restaurant owners' claim that model is no longer accurate, it says that\n",
        "# the observedcost is higher .\n",
        "\n",
        "# H0: The Operating cost follows the model\n",
        "# H1: The Operating cost does not follow the model(higher than expected)\n",
        "\n",
        "# H0: mu = 4000\n",
        "# H1: mu > 4000"
      ],
      "metadata": {
        "id": "XNqlUQmOyeeh"
      },
      "execution_count": 2,
      "outputs": []
    },
    {
      "cell_type": "markdown",
      "source": [
        "# Test Statistics"
      ],
      "metadata": {
        "id": "GaraJURI6uso"
      }
    },
    {
      "cell_type": "code",
      "source": [
        "# Here population standard deviation is known hence, we go for Z_test\n",
        "# Z = (X_bar - mu)/(sigma / sqrt(n)) follows N(0,1)\n",
        "Z = (X_bar - mu)/(std / n**0.5)\n",
        "Z"
      ],
      "metadata": {
        "colab": {
          "base_uri": "https://localhost:8080/"
        },
        "id": "Pk4B0eOz6xWX",
        "outputId": "0a3d6b2d-d581-4673-aede-32e35b993367"
      },
      "execution_count": 3,
      "outputs": [
        {
          "output_type": "execute_result",
          "data": {
            "text/plain": [
              "-38.0"
            ]
          },
          "metadata": {},
          "execution_count": 3
        }
      ]
    },
    {
      "cell_type": "markdown",
      "source": [
        "# Critical Value"
      ],
      "metadata": {
        "id": "ekX2shO6dEox"
      }
    },
    {
      "cell_type": "code",
      "source": [
        "from scipy import stats\n",
        "critical_value = stats.norm.ppf(1-.05)\n",
        "critical_value"
      ],
      "metadata": {
        "colab": {
          "base_uri": "https://localhost:8080/"
        },
        "id": "crx3aFyetHUC",
        "outputId": "1e514b74-f070-49e3-eb9b-0d4f4d5c3510"
      },
      "execution_count": 4,
      "outputs": [
        {
          "output_type": "execute_result",
          "data": {
            "text/plain": [
              "1.6448536269514722"
            ]
          },
          "metadata": {},
          "execution_count": 4
        }
      ]
    },
    {
      "cell_type": "markdown",
      "source": [
        "# Decision"
      ],
      "metadata": {
        "id": "b22ftNIsdHR3"
      }
    },
    {
      "cell_type": "code",
      "source": [
        "# Decision\n",
        "if Z > critical_value:\n",
        "    decision=\"Reject the null hypothesis.\"\n",
        "else:\n",
        "    decision=\"Fail to reject the null hypothesis.\"\n",
        "print(decision)"
      ],
      "metadata": {
        "id": "l_5tPp7IvKel",
        "colab": {
          "base_uri": "https://localhost:8080/"
        },
        "outputId": "c237f37d-49e5-450e-dbfe-fadcb5f4655e"
      },
      "execution_count": 5,
      "outputs": [
        {
          "output_type": "stream",
          "name": "stdout",
          "text": [
            "Fail to reject the null hypothesis.\n"
          ]
        }
      ]
    },
    {
      "cell_type": "markdown",
      "source": [
        "# Conclusion"
      ],
      "metadata": {
        "id": "evyQz1GcdJvO"
      }
    },
    {
      "cell_type": "code",
      "source": [
        "if Z > critical_value:\n",
        "    conclusion = \"There is strong evidence to support the restaurant owners' claim that the weekly operating costs are higher than the model suggests.\"\n",
        "else:\n",
        "    conclusion = \"There is NO strong evidence to support the restaurant owners' claim that the weekly operating costs are higher than the model suggests.\"\n",
        "print(conclusion)"
      ],
      "metadata": {
        "colab": {
          "base_uri": "https://localhost:8080/"
        },
        "id": "FBGdLdDLdBbP",
        "outputId": "88e01094-2f7c-4fa1-94e8-b298323354d3"
      },
      "execution_count": 7,
      "outputs": [
        {
          "output_type": "stream",
          "name": "stdout",
          "text": [
            "There is NO strong evidence to support the restaurant owners' claim that the weekly operating costs are higher than the model suggests.\n"
          ]
        }
      ]
    },
    {
      "cell_type": "code",
      "source": [
        "# Print the results\n",
        "print(\"Test Statistic:\", Z)\n",
        "print(\"Critical Value:\", critical_value)\n",
        "print(\"Decision:\", decision)\n",
        "print(\"Conclusion:\", conclusion)"
      ],
      "metadata": {
        "colab": {
          "base_uri": "https://localhost:8080/"
        },
        "id": "VT0rOQ2s-v71",
        "outputId": "a839dd39-e32d-4536-87ad-48281970fb29"
      },
      "execution_count": 8,
      "outputs": [
        {
          "output_type": "stream",
          "name": "stdout",
          "text": [
            "Test Statistic: -38.0\n",
            "Critical Value: 1.6448536269514722\n",
            "Decision: Fail to reject the null hypothesis.\n",
            "Conclusion: There is NO strong evidence to support the restaurant owners' claim that the weekly operating costs are higher than the model suggests.\n"
          ]
        }
      ]
    }
  ]
}